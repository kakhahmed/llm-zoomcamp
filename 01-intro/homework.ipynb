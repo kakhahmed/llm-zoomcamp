{
 "cells": [
  {
   "cell_type": "code",
   "execution_count": 2,
   "id": "a18fd5eb-20d4-4d88-b931-adbcd0cae1cc",
   "metadata": {},
   "outputs": [],
   "source": [
    "import openai\n",
    "from openai import OpenAI"
   ]
  },
  {
   "cell_type": "code",
   "execution_count": 4,
   "id": "25907c91-24e7-4765-8151-0e87c574d138",
   "metadata": {},
   "outputs": [],
   "source": [
    "client = OpenAI()"
   ]
  },
  {
   "cell_type": "code",
   "execution_count": 8,
   "id": "33b41884-b337-4d79-86d2-cc1053b65d42",
   "metadata": {},
   "outputs": [],
   "source": [
    "response = client.chat.completions.create(\n",
    "    model='gpt-4o',\n",
    "    messages=[\n",
    "        {\n",
    "            'role': 'user',\n",
    "            'content': 'Is it too late to join the course?',\n",
    "        }]\n",
    ")"
   ]
  },
  {
   "cell_type": "code",
   "execution_count": 11,
   "id": "1df8806c-275f-4c5b-9bd4-d48362614893",
   "metadata": {},
   "outputs": [
    {
     "name": "stdout",
     "output_type": "stream",
     "text": [
      "It's not possible to answer definitively without more context. Typically, the timing for joining a course depends on several factors:\n",
      "\n",
      "1. **Course Schedule:** Check the start and end dates of the course. If it's still within the add/drop period, you may be able to join.\n",
      "2. **Instructor's Policy:** Some instructors are flexible about late enrollments, especially if you communicate your interest and any special circumstances.\n",
      "3. **Institution Rules:** Academic institutions usually have specific policies regarding late registration. Consult the academic calendar or speak with an academic advisor.\n",
      "4. **Course Format:** Online courses might have more flexible enrollment periods compared to in-person classes, where catching up might be more challenging.\n",
      "5. **Coursework:** Consider the amount of material you would need to catch up on and whether it is feasible for you to do so without falling behind.\n",
      "\n",
      "To get a precise answer, you should contact the course instructor or the admissions office directly.\n"
     ]
    }
   ],
   "source": [
    "print(response.choices[0].message.content)"
   ]
  },
  {
   "cell_type": "code",
   "execution_count": null,
   "id": "b1f659d9-bb5b-44c3-a9cb-d66b3ddd8fcf",
   "metadata": {},
   "outputs": [],
   "source": []
  }
 ],
 "metadata": {
  "kernelspec": {
   "display_name": "Python 3 (ipykernel)",
   "language": "python",
   "name": "python3"
  },
  "language_info": {
   "codemirror_mode": {
    "name": "ipython",
    "version": 3
   },
   "file_extension": ".py",
   "mimetype": "text/x-python",
   "name": "python",
   "nbconvert_exporter": "python",
   "pygments_lexer": "ipython3",
   "version": "3.9.19"
  }
 },
 "nbformat": 4,
 "nbformat_minor": 5
}
